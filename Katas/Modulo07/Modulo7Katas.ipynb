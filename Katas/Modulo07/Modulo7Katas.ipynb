{
 "cells": [
  {
   "cell_type": "markdown",
   "metadata": {},
   "source": [
    "#Ejercicio 1: Creación de un bucle \"while\""
   ]
  },
  {
   "cell_type": "code",
   "execution_count": 4,
   "metadata": {},
   "outputs": [
    {
     "name": "stdout",
     "output_type": "stream",
     "text": [
      "Planetas: \n",
      "['saturno', 'urano', 'neptuno', 'pluton']\n"
     ]
    }
   ],
   "source": [
    "#Ejercicio 1: Uso de ciclos while en Python\n",
    "#Declara dos variables\n",
    "\n",
    "planets = []\n",
    "newPlanet = \"\"\n",
    "\n",
    "while(newPlanet.lower()!=\"done\"):\n",
    "    if(newPlanet!=\"\"):\n",
    "        planets.append(newPlanet)\n",
    "    newPlanet = input(\"Introduce el nombre de un planeta: \")\n",
    "\n",
    "print(\"Planetas: \")\n",
    "print(planets)\n"
   ]
  },
  {
   "cell_type": "markdown",
   "metadata": {},
   "source": [
    "#Ejercicio 2: Creación de un ciclo \"for\""
   ]
  },
  {
   "cell_type": "code",
   "execution_count": 5,
   "metadata": {},
   "outputs": [
    {
     "name": "stdout",
     "output_type": "stream",
     "text": [
      "Planeta: saturno\n",
      "Planeta: urano\n",
      "Planeta: neptuno\n",
      "Planeta: pluton\n"
     ]
    }
   ],
   "source": [
    "#Ejercicio: - Ciclo para una lista\n",
    "\n",
    "for planet in planets:\n",
    "    print(\"Planeta: \" + planet)    "
   ]
  }
 ],
 "metadata": {
  "interpreter": {
   "hash": "bc8cea3df9b2893ecd59f60a718f67ed19a60e9516b0bf3c151b6745e54348f7"
  },
  "kernelspec": {
   "display_name": "Python 3.10.2 64-bit",
   "language": "python",
   "name": "python3"
  },
  "language_info": {
   "codemirror_mode": {
    "name": "ipython",
    "version": 3
   },
   "file_extension": ".py",
   "mimetype": "text/x-python",
   "name": "python",
   "nbconvert_exporter": "python",
   "pygments_lexer": "ipython3",
   "version": "3.10.2"
  },
  "orig_nbformat": 4
 },
 "nbformat": 4,
 "nbformat_minor": 2
}
