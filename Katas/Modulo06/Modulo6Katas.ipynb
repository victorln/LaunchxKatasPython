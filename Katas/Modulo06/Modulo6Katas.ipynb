{
 "cells": [
  {
   "cell_type": "markdown",
   "metadata": {},
   "source": [
    "#Ejercicio1: Crear y usar listas de Python"
   ]
  },
  {
   "cell_type": "code",
   "execution_count": 7,
   "metadata": {},
   "outputs": [
    {
     "name": "stdout",
     "output_type": "stream",
     "text": [
      "['Mercury', 'Venus', 'Earth', 'Mars', 'Jupiter', 'Saturn', 'Uranus', 'Neptune']\n",
      "Total Planets: 8\n",
      "Total Planets: 9\n",
      "Last Planet: Pluto\n"
     ]
    }
   ],
   "source": [
    "#Ejercicio: Usar listas para almacenar nombres de planetas\n",
    "# Creamos la lista planets y la mostramos\n",
    "\n",
    "planets = [\"Mercury\",\"Venus\",\"Earth\",\"Mars\",\"Jupiter\",\"Saturn\",\"Uranus\",\"Neptune\"]\n",
    "print(planets)\n",
    "print(\"Total Planets: \" + str(len(planets)))\n",
    "planets.append(\"Pluto\")\n",
    "print(\"Total Planets now: \" + str(len(planets)))\n",
    "print(\"Last Planet: \" + planets[-1])"
   ]
  },
  {
   "cell_type": "markdown",
   "metadata": {},
   "source": [
    "#Ejercicio 2: Trabajando con datos de una lista"
   ]
  },
  {
   "cell_type": "code",
   "execution_count": 24,
   "metadata": {},
   "outputs": [
    {
     "name": "stdout",
     "output_type": "stream",
     "text": [
      "Planeta encontrado en el indice: 5\n",
      "Planetas mas cercanos de: Saturn\n",
      "['Mercury', 'Venus', 'Earth', 'Mars', 'Jupiter']\n",
      "Planetas mas lejanos de: Saturn\n",
      "['Neptune']\n"
     ]
    }
   ],
   "source": [
    "#Usar slices para recuperar partes de una lista\n",
    "# Lista de planetas\n",
    "planets = ['Mercury', 'Venus', 'Earth', 'Mars', 'Jupiter', 'Saturn', 'Neptune']\n",
    "planetName = input(\"Introduce a Planet Name: \")\n",
    "planetName = planetName.capitalize()\n",
    "\n",
    "\n",
    "try:\n",
    "    planetFound = planets.index(planetName)\n",
    "    print(\"Planeta encontrado en el indice: \" + str(planetFound)) \n",
    "\n",
    "    #Planetas cercanos al sol\n",
    "    planetsCloserSun = planets[0: planetFound]\n",
    "\n",
    "    print(\"Planetas mas cercanos de: \" + planetName)\n",
    "    print(planetsCloserSun)\n",
    "\n",
    "    #Planetas lejanos al sol\n",
    "    planetsFarSun = planets[planetFound + 1: len(planets)]\n",
    "\n",
    "    print(\"Planetas mas lejanos de: \" + planetName)\n",
    "    print(planetsFarSun)\n",
    "\n",
    "except ValueError:\n",
    "    print(\"Planeta no encontrado\")\n",
    "\n",
    "\n",
    "\n",
    "\n"
   ]
  }
 ],
 "metadata": {
  "interpreter": {
   "hash": "bc8cea3df9b2893ecd59f60a718f67ed19a60e9516b0bf3c151b6745e54348f7"
  },
  "kernelspec": {
   "display_name": "Python 3.10.2 64-bit",
   "language": "python",
   "name": "python3"
  },
  "language_info": {
   "codemirror_mode": {
    "name": "ipython",
    "version": 3
   },
   "file_extension": ".py",
   "mimetype": "text/x-python",
   "name": "python",
   "nbconvert_exporter": "python",
   "pygments_lexer": "ipython3",
   "version": "3.10.2"
  },
  "orig_nbformat": 4
 },
 "nbformat": 4,
 "nbformat_minor": 2
}
