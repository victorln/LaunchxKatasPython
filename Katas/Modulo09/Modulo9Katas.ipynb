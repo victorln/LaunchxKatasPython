{
 "cells": [
  {
   "cell_type": "markdown",
   "metadata": {},
   "source": [
    "#Ejercicio: Uso de funciones en Python"
   ]
  },
  {
   "cell_type": "code",
   "execution_count": 9,
   "metadata": {},
   "outputs": [
    {
     "name": "stdout",
     "output_type": "stream",
     "text": [
      "Fuel report: \n",
      "Tanque1: 88%\n",
      "Tanque2: 76%\n",
      "Tanque3: 70%\n",
      "Promedio: 78.0%\n"
     ]
    }
   ],
   "source": [
    "#Ejercicio 1: Trabajar con argumentos en funciones\n",
    "#Función para leer 3 tanques de combustible y muestre el promedio\n",
    "\n",
    "#funcion tanques que llama a la funcion promedio\n",
    "def reporte(tanque1, tanque2, tanque3):\n",
    "    return f\"\"\"Fuel report: \\nTanque1: {tanque1}%\\nTanque2: {tanque2}%\\nTanque3: {tanque3}%\\nPromedio: {promedio([tanque1,tanque2,tanque3])}%\"\"\"\n",
    "   \n",
    "\n",
    "#funcion promedio\n",
    "def promedio(valores):\n",
    "    return sum(valores)/len(valores)\n",
    "\n",
    "print(reporte(88, 76, 70))"
   ]
  },
  {
   "cell_type": "markdown",
   "metadata": {},
   "source": [
    "#Ejercicio 2: Trabajo con argumentos de palabra clave"
   ]
  },
  {
   "cell_type": "code",
   "execution_count": 16,
   "metadata": {},
   "outputs": [
    {
     "name": "stdout",
     "output_type": "stream",
     "text": [
      "\n",
      "    Mission to: Luna\n",
      "    Total travel time: 129 minutes\n",
      "    Total fuel left: 500\n",
      "main tank => 300 gallons left\n",
      "external tank => 200 gallons left\n",
      "\n"
     ]
    }
   ],
   "source": [
    "#Ejercicio : Trabajar con argumentos de palabras clave en funciones\n",
    "#Función con un informe preciso de la misión. Considera hora de prelanzamiento, tiempo de vuelo, destino, tanque externo y tanque interno\n",
    "\n",
    "def missionreport(destino,*minutos,**tanques):\n",
    "    report = f\"\"\"\n",
    "    Mission to: {destino}\n",
    "    Total travel time: {sum(minutos)} minutes\n",
    "    Total fuel left: {sum(tanques.values())}\\n\"\"\"\n",
    "\n",
    "    for tankName, gallons in tanques.items():\n",
    "        report+=f\"{tankName} tank => {gallons} gallons left\\n\"\n",
    "    return report\n",
    "\n",
    "print(missionreport(\"Luna\",32,43,54,main=300,external=200))\n",
    "\n",
    "\n"
   ]
  }
 ],
 "metadata": {
  "interpreter": {
   "hash": "bc8cea3df9b2893ecd59f60a718f67ed19a60e9516b0bf3c151b6745e54348f7"
  },
  "kernelspec": {
   "display_name": "Python 3.10.2 64-bit",
   "language": "python",
   "name": "python3"
  },
  "language_info": {
   "codemirror_mode": {
    "name": "ipython",
    "version": 3
   },
   "file_extension": ".py",
   "mimetype": "text/x-python",
   "name": "python",
   "nbconvert_exporter": "python",
   "pygments_lexer": "ipython3",
   "version": "3.10.2"
  },
  "orig_nbformat": 4
 },
 "nbformat": 4,
 "nbformat_minor": 2
}
