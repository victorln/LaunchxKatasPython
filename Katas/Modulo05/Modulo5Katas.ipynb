{
 "cells": [
  {
   "cell_type": "markdown",
   "metadata": {},
   "source": [
    "#Ejercicio1 - Utilizar operadores aritméticos"
   ]
  },
  {
   "cell_type": "code",
   "execution_count": 4,
   "metadata": {},
   "outputs": [
    {
     "name": "stdout",
     "output_type": "stream",
     "text": [
      "628949330 km\n",
      "390577533.93 Mi\n"
     ]
    }
   ],
   "source": [
    "#Calcular la distancia entre dos planetas\n",
    "# Crear variables para almacenar las dos distancias\n",
    "\n",
    "firstPlanet = 149597870  #km\n",
    "secondPlanet = 778547200 #km\n",
    "distance = secondPlanet - firstPlanet\n",
    "\n",
    "print(str(distance) + \" km\")\n",
    "\n",
    "distanceMi = distance * 0.621\n",
    "\n",
    "print(str(distanceMi) + \" Mi\")\n"
   ]
  },
  {
   "cell_type": "markdown",
   "metadata": {},
   "source": [
    "#Ejercicio 2: convierte cadenas en números y usa valores absolutos"
   ]
  },
  {
   "cell_type": "code",
   "execution_count": 6,
   "metadata": {},
   "outputs": [
    {
     "name": "stdout",
     "output_type": "stream",
     "text": [
      "Distance: 1000 Km\n",
      "Distance: 621.0 Mi\n"
     ]
    }
   ],
   "source": [
    "#Crear una aplicación para trabajar con números y entrada de usuario\n",
    "#Almacenar las entradas del usuario\n",
    "#Convierte las cadenas de ambos planetas a números enteros\n",
    "\n",
    "firstPlanet = input(\"Intriduzca la distancia del sol para planeta uno: \")\n",
    "secondPlanet = input(\"Introduzca la distancia del sol para el planeta dos: \")\n",
    "\n",
    "distance = int(secondPlanet) - int(firstPlanet) #convert to Int\n",
    "distance = abs(distance) #convert to absolute value\n",
    "\n",
    "print(\"Distance: \" + str(distance) + \" Km\")\n",
    "\n",
    "distanceMi = distance * 0.621\n",
    "\n",
    "print(\"Distance: \" + str(distanceMi) + \" Mi\")\n"
   ]
  }
 ],
 "metadata": {
  "interpreter": {
   "hash": "bc8cea3df9b2893ecd59f60a718f67ed19a60e9516b0bf3c151b6745e54348f7"
  },
  "kernelspec": {
   "display_name": "Python 3.10.2 64-bit",
   "language": "python",
   "name": "python3"
  },
  "language_info": {
   "codemirror_mode": {
    "name": "ipython",
    "version": 3
   },
   "file_extension": ".py",
   "mimetype": "text/x-python",
   "name": "python",
   "nbconvert_exporter": "python",
   "pygments_lexer": "ipython3",
   "version": "3.10.2"
  },
  "orig_nbformat": 4
 },
 "nbformat": 4,
 "nbformat_minor": 2
}
