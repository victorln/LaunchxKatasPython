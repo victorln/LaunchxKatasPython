{
 "cells": [
  {
   "cell_type": "markdown",
   "metadata": {},
   "source": [
    "#Ejercicio 1: Creación de diccionarios de Python"
   ]
  },
  {
   "cell_type": "code",
   "execution_count": 5,
   "metadata": {},
   "outputs": [
    {
     "name": "stdout",
     "output_type": "stream",
     "text": [
      "Name: Mars, Moons:2\n",
      "Name: Mars, Circunferencia: Polar = 6752\n"
     ]
    }
   ],
   "source": [
    "#Ejercicio: Crear y modificar un diccionario de Python\n",
    "#Crea un diccionario llamado planet con los datos propuestos\n",
    "\n",
    "planet = {\n",
    "    \"name\":\"Mars\",\n",
    "    \"moons\":2\n",
    "}\n",
    "\n",
    "#Muestra el nombre del planeta y el número de lunas que tiene.\n",
    "\n",
    "print(\"Name: \" + planet.get(\"name\") + \", Moons:\" + str(planet.get(\"moons\")))\n",
    "\n",
    "# Agrega la clave circunferencia con los datos proporcionados previamente\n",
    "planet[\"circumference\"] = {\n",
    "    \"polar\": 6752,\n",
    "    \"equatorial\": 6792\n",
    "}\n",
    "\n",
    "#Imprime el nombre del planeta con su circunferencia polar.\n",
    "print(\"Name: \" + planet.get(\"name\") + \", Circunferencia: Polar = \" + str(planet[\"circumference\"][\"polar\"]))\n"
   ]
  },
  {
   "cell_type": "markdown",
   "metadata": {},
   "source": [
    "#Ejercicio 2: Programación dinámica con diccionarios"
   ]
  },
  {
   "cell_type": "code",
   "execution_count": 13,
   "metadata": {},
   "outputs": [
    {
     "name": "stdout",
     "output_type": "stream",
     "text": [
      "Lunas: 214\n",
      "Planetas: 12\n",
      "Promedio de Lunas: 17.833333333333332\n"
     ]
    }
   ],
   "source": [
    "# Planets and moons\n",
    "\n",
    "planet_moons = {\n",
    "    'mercury': 0,\n",
    "    'venus': 0,\n",
    "    'earth': 1,\n",
    "    'mars': 2,\n",
    "    'jupiter': 79,\n",
    "    'saturn': 82,\n",
    "    'uranus': 27,\n",
    "    'neptune': 14,\n",
    "    'pluto': 5,\n",
    "    'haumea': 2,\n",
    "    'makemake': 1,\n",
    "    'eris': 1\n",
    "}\n",
    "\n",
    "# Añade el código para determinar el número de lunas.\n",
    "totalMoons = 0\n",
    "totalPlanets = 0\n",
    "for moon in planet_moons.values():\n",
    "   totalMoons+=moon\n",
    "\n",
    "totalPlanets = len(planet_moons.keys())\n",
    "\n",
    "print(\"Lunas: \" + str(totalMoons))\n",
    "print(\"Planetas: \" + str(totalPlanets))\n",
    "\n",
    "average = totalMoons/totalPlanets\n",
    "\n",
    "print(\"Promedio de Lunas: \" + str(average))"
   ]
  }
 ],
 "metadata": {
  "interpreter": {
   "hash": "bc8cea3df9b2893ecd59f60a718f67ed19a60e9516b0bf3c151b6745e54348f7"
  },
  "kernelspec": {
   "display_name": "Python 3.10.2 64-bit",
   "language": "python",
   "name": "python3"
  },
  "language_info": {
   "codemirror_mode": {
    "name": "ipython",
    "version": 3
   },
   "file_extension": ".py",
   "mimetype": "text/x-python",
   "name": "python",
   "nbconvert_exporter": "python",
   "pygments_lexer": "ipython3",
   "version": "3.10.2"
  },
  "orig_nbformat": 4
 },
 "nbformat": 4,
 "nbformat_minor": 2
}
